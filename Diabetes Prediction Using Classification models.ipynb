{
 "cells": [
  {
   "cell_type": "code",
   "execution_count": 54,
   "metadata": {},
   "outputs": [],
   "source": [
    "# import all necessary libraries\n",
    "import sys\n",
    "import pandas as pd\n",
    "import numpy as np\n",
    "import sklearn\n",
    "import matplotlib.pyplot as plt\n",
    "\n",
    "%matplotlib inline"
   ]
  },
  {
   "cell_type": "code",
   "execution_count": 55,
   "metadata": {},
   "outputs": [],
   "source": [
    "# import the uci diabetes dataset\n",
    "\n",
    "url = \"https://archive.ics.uci.edu/ml/machine-learning-databases/00529/diabetes_data_upload.csv\"\n",
    "\n",
    "df = pd.read_csv(url)"
   ]
  },
  {
   "cell_type": "code",
   "execution_count": 56,
   "metadata": {},
   "outputs": [
    {
     "data": {
      "text/html": [
       "<div>\n",
       "<style scoped>\n",
       "    .dataframe tbody tr th:only-of-type {\n",
       "        vertical-align: middle;\n",
       "    }\n",
       "\n",
       "    .dataframe tbody tr th {\n",
       "        vertical-align: top;\n",
       "    }\n",
       "\n",
       "    .dataframe thead th {\n",
       "        text-align: right;\n",
       "    }\n",
       "</style>\n",
       "<table border=\"1\" class=\"dataframe\">\n",
       "  <thead>\n",
       "    <tr style=\"text-align: right;\">\n",
       "      <th></th>\n",
       "      <th>Age</th>\n",
       "      <th>Gender</th>\n",
       "      <th>Polyuria</th>\n",
       "      <th>Polydipsia</th>\n",
       "      <th>sudden weight loss</th>\n",
       "      <th>weakness</th>\n",
       "      <th>Polyphagia</th>\n",
       "      <th>Genital thrush</th>\n",
       "      <th>visual blurring</th>\n",
       "      <th>Itching</th>\n",
       "      <th>Irritability</th>\n",
       "      <th>delayed healing</th>\n",
       "      <th>partial paresis</th>\n",
       "      <th>muscle stiffness</th>\n",
       "      <th>Alopecia</th>\n",
       "      <th>Obesity</th>\n",
       "      <th>class</th>\n",
       "    </tr>\n",
       "  </thead>\n",
       "  <tbody>\n",
       "    <tr>\n",
       "      <th>count</th>\n",
       "      <td>520.000000</td>\n",
       "      <td>520</td>\n",
       "      <td>520</td>\n",
       "      <td>520</td>\n",
       "      <td>520</td>\n",
       "      <td>520</td>\n",
       "      <td>520</td>\n",
       "      <td>520</td>\n",
       "      <td>520</td>\n",
       "      <td>520</td>\n",
       "      <td>520</td>\n",
       "      <td>520</td>\n",
       "      <td>520</td>\n",
       "      <td>520</td>\n",
       "      <td>520</td>\n",
       "      <td>520</td>\n",
       "      <td>520</td>\n",
       "    </tr>\n",
       "    <tr>\n",
       "      <th>unique</th>\n",
       "      <td>NaN</td>\n",
       "      <td>2</td>\n",
       "      <td>2</td>\n",
       "      <td>2</td>\n",
       "      <td>2</td>\n",
       "      <td>2</td>\n",
       "      <td>2</td>\n",
       "      <td>2</td>\n",
       "      <td>2</td>\n",
       "      <td>2</td>\n",
       "      <td>2</td>\n",
       "      <td>2</td>\n",
       "      <td>2</td>\n",
       "      <td>2</td>\n",
       "      <td>2</td>\n",
       "      <td>2</td>\n",
       "      <td>2</td>\n",
       "    </tr>\n",
       "    <tr>\n",
       "      <th>top</th>\n",
       "      <td>NaN</td>\n",
       "      <td>Male</td>\n",
       "      <td>No</td>\n",
       "      <td>No</td>\n",
       "      <td>No</td>\n",
       "      <td>Yes</td>\n",
       "      <td>No</td>\n",
       "      <td>No</td>\n",
       "      <td>No</td>\n",
       "      <td>No</td>\n",
       "      <td>No</td>\n",
       "      <td>No</td>\n",
       "      <td>No</td>\n",
       "      <td>No</td>\n",
       "      <td>No</td>\n",
       "      <td>No</td>\n",
       "      <td>Positive</td>\n",
       "    </tr>\n",
       "    <tr>\n",
       "      <th>freq</th>\n",
       "      <td>NaN</td>\n",
       "      <td>328</td>\n",
       "      <td>262</td>\n",
       "      <td>287</td>\n",
       "      <td>303</td>\n",
       "      <td>305</td>\n",
       "      <td>283</td>\n",
       "      <td>404</td>\n",
       "      <td>287</td>\n",
       "      <td>267</td>\n",
       "      <td>394</td>\n",
       "      <td>281</td>\n",
       "      <td>296</td>\n",
       "      <td>325</td>\n",
       "      <td>341</td>\n",
       "      <td>432</td>\n",
       "      <td>320</td>\n",
       "    </tr>\n",
       "    <tr>\n",
       "      <th>mean</th>\n",
       "      <td>48.028846</td>\n",
       "      <td>NaN</td>\n",
       "      <td>NaN</td>\n",
       "      <td>NaN</td>\n",
       "      <td>NaN</td>\n",
       "      <td>NaN</td>\n",
       "      <td>NaN</td>\n",
       "      <td>NaN</td>\n",
       "      <td>NaN</td>\n",
       "      <td>NaN</td>\n",
       "      <td>NaN</td>\n",
       "      <td>NaN</td>\n",
       "      <td>NaN</td>\n",
       "      <td>NaN</td>\n",
       "      <td>NaN</td>\n",
       "      <td>NaN</td>\n",
       "      <td>NaN</td>\n",
       "    </tr>\n",
       "    <tr>\n",
       "      <th>std</th>\n",
       "      <td>12.151466</td>\n",
       "      <td>NaN</td>\n",
       "      <td>NaN</td>\n",
       "      <td>NaN</td>\n",
       "      <td>NaN</td>\n",
       "      <td>NaN</td>\n",
       "      <td>NaN</td>\n",
       "      <td>NaN</td>\n",
       "      <td>NaN</td>\n",
       "      <td>NaN</td>\n",
       "      <td>NaN</td>\n",
       "      <td>NaN</td>\n",
       "      <td>NaN</td>\n",
       "      <td>NaN</td>\n",
       "      <td>NaN</td>\n",
       "      <td>NaN</td>\n",
       "      <td>NaN</td>\n",
       "    </tr>\n",
       "    <tr>\n",
       "      <th>min</th>\n",
       "      <td>16.000000</td>\n",
       "      <td>NaN</td>\n",
       "      <td>NaN</td>\n",
       "      <td>NaN</td>\n",
       "      <td>NaN</td>\n",
       "      <td>NaN</td>\n",
       "      <td>NaN</td>\n",
       "      <td>NaN</td>\n",
       "      <td>NaN</td>\n",
       "      <td>NaN</td>\n",
       "      <td>NaN</td>\n",
       "      <td>NaN</td>\n",
       "      <td>NaN</td>\n",
       "      <td>NaN</td>\n",
       "      <td>NaN</td>\n",
       "      <td>NaN</td>\n",
       "      <td>NaN</td>\n",
       "    </tr>\n",
       "    <tr>\n",
       "      <th>25%</th>\n",
       "      <td>39.000000</td>\n",
       "      <td>NaN</td>\n",
       "      <td>NaN</td>\n",
       "      <td>NaN</td>\n",
       "      <td>NaN</td>\n",
       "      <td>NaN</td>\n",
       "      <td>NaN</td>\n",
       "      <td>NaN</td>\n",
       "      <td>NaN</td>\n",
       "      <td>NaN</td>\n",
       "      <td>NaN</td>\n",
       "      <td>NaN</td>\n",
       "      <td>NaN</td>\n",
       "      <td>NaN</td>\n",
       "      <td>NaN</td>\n",
       "      <td>NaN</td>\n",
       "      <td>NaN</td>\n",
       "    </tr>\n",
       "    <tr>\n",
       "      <th>50%</th>\n",
       "      <td>47.500000</td>\n",
       "      <td>NaN</td>\n",
       "      <td>NaN</td>\n",
       "      <td>NaN</td>\n",
       "      <td>NaN</td>\n",
       "      <td>NaN</td>\n",
       "      <td>NaN</td>\n",
       "      <td>NaN</td>\n",
       "      <td>NaN</td>\n",
       "      <td>NaN</td>\n",
       "      <td>NaN</td>\n",
       "      <td>NaN</td>\n",
       "      <td>NaN</td>\n",
       "      <td>NaN</td>\n",
       "      <td>NaN</td>\n",
       "      <td>NaN</td>\n",
       "      <td>NaN</td>\n",
       "    </tr>\n",
       "    <tr>\n",
       "      <th>75%</th>\n",
       "      <td>57.000000</td>\n",
       "      <td>NaN</td>\n",
       "      <td>NaN</td>\n",
       "      <td>NaN</td>\n",
       "      <td>NaN</td>\n",
       "      <td>NaN</td>\n",
       "      <td>NaN</td>\n",
       "      <td>NaN</td>\n",
       "      <td>NaN</td>\n",
       "      <td>NaN</td>\n",
       "      <td>NaN</td>\n",
       "      <td>NaN</td>\n",
       "      <td>NaN</td>\n",
       "      <td>NaN</td>\n",
       "      <td>NaN</td>\n",
       "      <td>NaN</td>\n",
       "      <td>NaN</td>\n",
       "    </tr>\n",
       "    <tr>\n",
       "      <th>max</th>\n",
       "      <td>90.000000</td>\n",
       "      <td>NaN</td>\n",
       "      <td>NaN</td>\n",
       "      <td>NaN</td>\n",
       "      <td>NaN</td>\n",
       "      <td>NaN</td>\n",
       "      <td>NaN</td>\n",
       "      <td>NaN</td>\n",
       "      <td>NaN</td>\n",
       "      <td>NaN</td>\n",
       "      <td>NaN</td>\n",
       "      <td>NaN</td>\n",
       "      <td>NaN</td>\n",
       "      <td>NaN</td>\n",
       "      <td>NaN</td>\n",
       "      <td>NaN</td>\n",
       "      <td>NaN</td>\n",
       "    </tr>\n",
       "  </tbody>\n",
       "</table>\n",
       "</div>"
      ],
      "text/plain": [
       "               Age Gender Polyuria Polydipsia sudden weight loss weakness  \\\n",
       "count   520.000000    520      520        520                520      520   \n",
       "unique         NaN      2        2          2                  2        2   \n",
       "top            NaN   Male       No         No                 No      Yes   \n",
       "freq           NaN    328      262        287                303      305   \n",
       "mean     48.028846    NaN      NaN        NaN                NaN      NaN   \n",
       "std      12.151466    NaN      NaN        NaN                NaN      NaN   \n",
       "min      16.000000    NaN      NaN        NaN                NaN      NaN   \n",
       "25%      39.000000    NaN      NaN        NaN                NaN      NaN   \n",
       "50%      47.500000    NaN      NaN        NaN                NaN      NaN   \n",
       "75%      57.000000    NaN      NaN        NaN                NaN      NaN   \n",
       "max      90.000000    NaN      NaN        NaN                NaN      NaN   \n",
       "\n",
       "       Polyphagia Genital thrush visual blurring Itching Irritability  \\\n",
       "count         520            520             520     520          520   \n",
       "unique          2              2               2       2            2   \n",
       "top            No             No              No      No           No   \n",
       "freq          283            404             287     267          394   \n",
       "mean          NaN            NaN             NaN     NaN          NaN   \n",
       "std           NaN            NaN             NaN     NaN          NaN   \n",
       "min           NaN            NaN             NaN     NaN          NaN   \n",
       "25%           NaN            NaN             NaN     NaN          NaN   \n",
       "50%           NaN            NaN             NaN     NaN          NaN   \n",
       "75%           NaN            NaN             NaN     NaN          NaN   \n",
       "max           NaN            NaN             NaN     NaN          NaN   \n",
       "\n",
       "       delayed healing partial paresis muscle stiffness Alopecia Obesity  \\\n",
       "count              520             520              520      520     520   \n",
       "unique               2               2                2        2       2   \n",
       "top                 No              No               No       No      No   \n",
       "freq               281             296              325      341     432   \n",
       "mean               NaN             NaN              NaN      NaN     NaN   \n",
       "std                NaN             NaN              NaN      NaN     NaN   \n",
       "min                NaN             NaN              NaN      NaN     NaN   \n",
       "25%                NaN             NaN              NaN      NaN     NaN   \n",
       "50%                NaN             NaN              NaN      NaN     NaN   \n",
       "75%                NaN             NaN              NaN      NaN     NaN   \n",
       "max                NaN             NaN              NaN      NaN     NaN   \n",
       "\n",
       "           class  \n",
       "count        520  \n",
       "unique         2  \n",
       "top     Positive  \n",
       "freq         320  \n",
       "mean         NaN  \n",
       "std          NaN  \n",
       "min          NaN  \n",
       "25%          NaN  \n",
       "50%          NaN  \n",
       "75%          NaN  \n",
       "max          NaN  "
      ]
     },
     "execution_count": 56,
     "metadata": {},
     "output_type": "execute_result"
    }
   ],
   "source": [
    "df.describe(include = 'all')"
   ]
  },
  {
   "cell_type": "code",
   "execution_count": 57,
   "metadata": {},
   "outputs": [
    {
     "data": {
      "text/plain": [
       "False"
      ]
     },
     "execution_count": 57,
     "metadata": {},
     "output_type": "execute_result"
    }
   ],
   "source": [
    "# checking for missing values\n",
    "df.isnull().values.any()"
   ]
  },
  {
   "cell_type": "code",
   "execution_count": 58,
   "metadata": {},
   "outputs": [
    {
     "data": {
      "text/plain": [
       "Positive    320\n",
       "Negative    200\n",
       "Name: class, dtype: int64"
      ]
     },
     "execution_count": 58,
     "metadata": {},
     "output_type": "execute_result"
    }
   ],
   "source": [
    "# checking for extreme skewness\n",
    "df['class'].value_counts()"
   ]
  },
  {
   "cell_type": "markdown",
   "metadata": {},
   "source": [
    "### Visualizing data"
   ]
  },
  {
   "cell_type": "code",
   "execution_count": 59,
   "metadata": {},
   "outputs": [
    {
     "data": {
      "image/png": "[encoded data removed]",
      "text/plain": [
       "<Figure size 432x216 with 2 Axes>"
      ]
     },
     "metadata": {
      "needs_background": "light"
     },
     "output_type": "display_data"
    }
   ],
   "source": [
    "import seaborn as sns\n",
    "\n",
    "# trying to see relation between Age, Gender and class\n",
    "bins = np.linspace(df.Age.min(), df.Age.max(), 10)\n",
    "g = sns.FacetGrid(df, col=\"Gender\", hue=\"class\", palette=\"Set1\", col_wrap=2)\n",
    "g.map(plt.hist, 'Age', bins=bins, ec=\"k\")\n",
    "\n",
    "g.axes[-1].legend()\n",
    "plt.show()"
   ]
  },
  {
   "cell_type": "code",
   "execution_count": 60,
   "metadata": {},
   "outputs": [
    {
     "name": "stdout",
     "output_type": "stream",
     "text": [
      "   Gender Polyuria     class  count\n",
      "0  Female       No  Negative     19\n",
      "1  Female       No  Positive     44\n",
      "2  Female      Yes  Positive    129\n",
      "3    Male       No  Negative    166\n",
      "4    Male       No  Positive     33\n",
      "5    Male      Yes  Negative     15\n",
      "6    Male      Yes  Positive    114\n"
     ]
    },
    {
     "data": {
      "image/png": "[encoded data removed]",
      "text/plain": [
       "<Figure size 432x216 with 2 Axes>"
      ]
     },
     "metadata": {
      "needs_background": "light"
     },
     "output_type": "display_data"
    }
   ],
   "source": [
    "# trying to see relation between Polyuria, Gender and class\n",
    "\n",
    "temp = df\n",
    "#temp['Polyuria'] = temp['Polyuria'].astype('category')\n",
    "df1 = temp.groupby(['Gender','Polyuria','class']).size().reset_index(name='count')\n",
    "print (df1)\n",
    "g = sns.FacetGrid(df1, col=\"Gender\", hue=\"class\", palette=\"Set1\", col_wrap=2)\n",
    "g.map(plt.bar , \"Polyuria\" , \"count\")\n",
    "\n",
    "g.axes[-1].legend()\n",
    "plt.show()"
   ]
  },
  {
   "cell_type": "markdown",
   "metadata": {},
   "source": [
    "### Datat Preprocessing"
   ]
  },
  {
   "cell_type": "code",
   "execution_count": 61,
   "metadata": {},
   "outputs": [],
   "source": [
    "# Replacing categorical values with binary 0 and 1\n",
    "df['Gender'].replace(to_replace=['Male','Female'], value=[0,1],inplace=True)\n",
    "df['Polyuria'].replace(to_replace=['No','Yes'], value=[0,1],inplace=True)\n",
    "df['Polydipsia'].replace(to_replace=['No','Yes'], value=[0,1],inplace=True)\n",
    "df['sudden weight loss'].replace(to_replace=['No','Yes'], value=[0,1],inplace=True)\n",
    "df['weakness'].replace(to_replace=['No','Yes'], value=[0,1],inplace=True)\n",
    "df['Polyphagia'].replace(to_replace=['No','Yes'], value=[0,1],inplace=True)\n",
    "df['Genital thrush'].replace(to_replace=['No','Yes'], value=[0,1],inplace=True)\n",
    "df['visual blurring'].replace(to_replace=['No','Yes'], value=[0,1],inplace=True)\n",
    "df['Itching'].replace(to_replace=['No','Yes'], value=[0,1],inplace=True)\n",
    "df['Irritability'].replace(to_replace=['No','Yes'], value=[0,1],inplace=True)\n",
    "df['delayed healing'].replace(to_replace=['No','Yes'], value=[0,1],inplace=True)\n",
    "df['partial paresis'].replace(to_replace=['No','Yes'], value=[0,1],inplace=True)\n",
    "df['muscle stiffness'].replace(to_replace=['No','Yes'], value=[0,1],inplace=True)\n",
    "df['Alopecia'].replace(to_replace=['No','Yes'], value=[0,1],inplace=True)\n",
    "df['Obesity'].replace(to_replace=['No','Yes'], value=[0,1],inplace=True)"
   ]
  },
  {
   "cell_type": "code",
   "execution_count": 62,
   "metadata": {},
   "outputs": [],
   "source": [
    "# Normalize Age column\n",
    "df[\"Age\"] = df[\"Age\"].apply(lambda x: (x-df[\"Age\"].mean())/(df[\"Age\"].max()-df[\"Age\"].min()))"
   ]
  },
  {
   "cell_type": "code",
   "execution_count": 63,
   "metadata": {},
   "outputs": [
    {
     "name": "stdout",
     "output_type": "stream",
     "text": [
      "        Age  Gender  Polyuria  Polydipsia  sudden weight loss  weakness  \\\n",
      "0 -0.108498       0         0           1                   0         1   \n",
      "1  0.134745       0         0           0                   0         1   \n",
      "2 -0.094984       0         1           0                   0         1   \n",
      "3 -0.040930       0         0           0                   1         1   \n",
      "4  0.161772       0         1           1                   1         1   \n",
      "\n",
      "   Polyphagia  Genital thrush  visual blurring  Itching  Irritability  \\\n",
      "0           0               0                0        1             0   \n",
      "1           0               0                1        0             0   \n",
      "2           1               0                0        1             0   \n",
      "3           1               1                0        1             0   \n",
      "4           1               0                1        1             1   \n",
      "\n",
      "   delayed healing  partial paresis  muscle stiffness  Alopecia  Obesity  \n",
      "0                1                0                 1         1        1  \n",
      "1                0                1                 0         1        0  \n",
      "2                1                0                 1         1        0  \n",
      "3                1                0                 0         0        0  \n",
      "4                1                1                 1         1        1  \n",
      "['Positive' 'Positive' 'Positive' 'Positive' 'Positive']\n"
     ]
    }
   ],
   "source": [
    "columns = [column for column in df.columns if column not in [\"class\"]]\n",
    "X = df[columns]\n",
    "y = df[\"class\"].values\n",
    "print(X[0:5])\n",
    "print(y[0:5])"
   ]
  },
  {
   "cell_type": "markdown",
   "metadata": {},
   "source": [
    "### Split Training & Testing Data"
   ]
  },
  {
   "cell_type": "code",
   "execution_count": 64,
   "metadata": {},
   "outputs": [
    {
     "name": "stdout",
     "output_type": "stream",
     "text": [
      "Train set: (390, 16) (390,)\n",
      "Cross-Validation set: (130, 16) (130,)\n",
      "Test set: (104, 16) (104,)\n"
     ]
    }
   ],
   "source": [
    "from sklearn.model_selection import train_test_split\n",
    "\n",
    "# splitting data into 2 sets to get test set \n",
    "X_train, X_test, y_train, y_test = train_test_split( X, y, test_size=0.2, random_state=4)\n",
    "\n",
    "# splitting non test set part further into training and cross validation set\n",
    "X_train, X_val, y_train, y_val = train_test_split( X, y, test_size=0.25, random_state=3)\n",
    "\n",
    "\n",
    "print ('Train set:', X_train.shape,  y_train.shape)\n",
    "print('Cross-Validation set:', X_val.shape,  y_val.shape)\n",
    "print ('Test set:', X_test.shape,  y_test.shape)"
   ]
  },
  {
   "cell_type": "markdown",
   "metadata": {},
   "source": [
    "### Classification Models"
   ]
  },
  {
   "cell_type": "markdown",
   "metadata": {},
   "source": [
    "#### Logistic Regression"
   ]
  },
  {
   "cell_type": "code",
   "execution_count": 65,
   "metadata": {},
   "outputs": [
    {
     "data": {
      "text/plain": [
       "{'newton-cg': 0.9519230769230769,\n",
       " 'lbfgs': 0.9519230769230769,\n",
       " 'liblinear': 0.9519230769230769,\n",
       " 'sag': 0.9519230769230769,\n",
       " 'saga': 0.9519230769230769}"
      ]
     },
     "execution_count": 65,
     "metadata": {},
     "output_type": "execute_result"
    }
   ],
   "source": [
    "# Using Logistic Regression\n",
    "\n",
    "from sklearn.linear_model import LogisticRegression\n",
    "from sklearn import metrics\n",
    "Klr = [\"newton-cg\", \"lbfgs\", \"liblinear\", \"sag\", \"saga\"]\n",
    "mean_acc = {}\n",
    "\n",
    "for n in Klr:\n",
    "    \n",
    "    #Train Model and Predict  \n",
    "    LR = LogisticRegression(C=100, solver=n, max_iter = 1500).fit(X_train,y_train)\n",
    "    yhat=LR.predict(X_test)\n",
    "    mean_acc[n] = metrics.accuracy_score(y_test, yhat)\n",
    "\n",
    "mean_acc\n"
   ]
  },
  {
   "cell_type": "code",
   "execution_count": 66,
   "metadata": {},
   "outputs": [
    {
     "data": {
      "text/plain": [
       "LogisticRegression(C=100, max_iter=1500, solver='liblinear')"
      ]
     },
     "execution_count": 66,
     "metadata": {},
     "output_type": "execute_result"
    }
   ],
   "source": [
    "# Since liblinear seems to give highest accuracy, we'll go ahead with liblinear for final model\n",
    "LR_final = LogisticRegression(C=100, solver=\"liblinear\", max_iter = 1500).fit(X_train,y_train)\n",
    "LR_final"
   ]
  },
  {
   "cell_type": "markdown",
   "metadata": {},
   "source": [
    "#### Decision tree"
   ]
  },
  {
   "cell_type": "code",
   "execution_count": 67,
   "metadata": {},
   "outputs": [
    {
     "data": {
      "text/plain": [
       "array([0.84615385, 0.93269231, 0.93269231, 0.92307692, 0.96153846,\n",
       "       0.97115385, 0.99038462, 0.99038462, 1.        , 1.        ,\n",
       "       1.        , 1.        , 1.        , 1.        ])"
      ]
     },
     "execution_count": 67,
     "metadata": {},
     "output_type": "execute_result"
    }
   ],
   "source": [
    "# Using Decision tree\n",
    "\n",
    "from sklearn.tree import DecisionTreeClassifier\n",
    "from sklearn import metrics\n",
    "\n",
    "Kd = 15 # for depth\n",
    "mean_acc = np.zeros((Kd-1))\n",
    "std_acc = np.zeros((Kd-1))\n",
    "\n",
    "for n in range(1,Kd):\n",
    "    \n",
    "    #Train Model and Predict  \n",
    "    dTree = DecisionTreeClassifier(criterion=\"entropy\", max_depth = n)\n",
    "    dTree.fit(X_train,y_train)\n",
    "    yhat=dTree.predict(X_test)\n",
    "    mean_acc[n-1] = metrics.accuracy_score(y_test, yhat)\n",
    "\n",
    "    \n",
    "    std_acc[n-1]=np.std(yhat==y_test)/np.sqrt(yhat.shape[0])\n",
    "\n",
    "mean_acc"
   ]
  },
  {
   "cell_type": "code",
   "execution_count": 68,
   "metadata": {},
   "outputs": [
    {
     "data": {
      "image/png": "[encoded data removed]",
      "text/plain": [
       "<Figure size 432x288 with 1 Axes>"
      ]
     },
     "metadata": {
      "needs_background": "light"
     },
     "output_type": "display_data"
    },
    {
     "name": "stdout",
     "output_type": "stream",
     "text": [
      "The best accuracy was with 1.0 with k= 9\n"
     ]
    }
   ],
   "source": [
    "## Plot the accuracies and see which k value is the best\n",
    "plt.plot(range(1,Kd),mean_acc,'g')\n",
    "plt.fill_between(range(1,Kd),mean_acc - 1 * std_acc,mean_acc + 1 * std_acc, alpha=0.10)\n",
    "plt.legend(('Accuracy ', '+/- 3xstd'))\n",
    "plt.ylabel('Accuracy ')\n",
    "plt.xlabel('Maximum Depth (K)')\n",
    "plt.tight_layout()\n",
    "plt.show()\n",
    "print( \"The best accuracy was with\", mean_acc.max(), \"with k=\", mean_acc.argmax()+1)"
   ]
  },
  {
   "cell_type": "code",
   "execution_count": 80,
   "metadata": {},
   "outputs": [
    {
     "data": {
      "text/plain": [
       "DecisionTreeClassifier(criterion='entropy', max_depth=11)"
      ]
     },
     "execution_count": 80,
     "metadata": {},
     "output_type": "execute_result"
    }
   ],
   "source": [
    "# Since all k values after 9 seem to give high accuracy final model for evaluation will be with k = 9\n",
    "drugTree_final = DecisionTreeClassifier(criterion=\"entropy\", max_depth = 11)\n",
    "drugTree_final.fit(X_train,y_train)"
   ]
  },
  {
   "cell_type": "markdown",
   "metadata": {},
   "source": [
    "### Model Evaluation using different metrics"
   ]
  },
  {
   "cell_type": "code",
   "execution_count": 82,
   "metadata": {},
   "outputs": [],
   "source": [
    "from sklearn.metrics import f1_score\n",
    "from sklearn.metrics import log_loss\n",
    "from sklearn.metrics import jaccard_score\n",
    "from sklearn.metrics import plot_confusion_matrix"
   ]
  },
  {
   "cell_type": "markdown",
   "metadata": {},
   "source": [
    "#### Logistic Regression"
   ]
  },
  {
   "cell_type": "code",
   "execution_count": 83,
   "metadata": {},
   "outputs": [
    {
     "name": "stdout",
     "output_type": "stream",
     "text": [
      "0.9382642998027614\n",
      "0.9024390243902439\n",
      "0.17082538879001244\n"
     ]
    },
    {
     "data": {
      "image/png": "[encoded data removed]",
      "text/plain": [
       "<Figure size 432x288 with 2 Axes>"
      ]
     },
     "metadata": {
      "needs_background": "light"
     },
     "output_type": "display_data"
    }
   ],
   "source": [
    "# evaluation for the Logistic Regression  algo\n",
    "yhat_val = LR_final.predict(X_val)\n",
    "yhat_val_prob = LR_final.predict_proba(X_val)\n",
    "\n",
    "# evaluation for the Logistic Regression algo\n",
    "f1score = f1_score(y_val, yhat_val, average='weighted')\n",
    "jaccard = jaccard_score(y_val, yhat_val , pos_label=\"Positive\")\n",
    "logloss = log_loss(y_val, yhat_val_prob)\n",
    "\n",
    "print(f1score)\n",
    "print(jaccard)\n",
    "print(logloss)\n",
    "\n",
    "# plotting confusion matrix\n",
    "plot_confusion_matrix(LR_final, X_val, y_val)\n",
    "plt.show()"
   ]
  },
  {
   "cell_type": "markdown",
   "metadata": {},
   "source": [
    "#### Decision tree"
   ]
  },
  {
   "cell_type": "code",
   "execution_count": 84,
   "metadata": {},
   "outputs": [
    {
     "name": "stdout",
     "output_type": "stream",
     "text": [
      "0.992295876166844\n",
      "0.9871794871794872\n"
     ]
    },
    {
     "data": {
      "image/png": "[encoded data removed]",
      "text/plain": [
       "<Figure size 432x288 with 2 Axes>"
      ]
     },
     "metadata": {
      "needs_background": "light"
     },
     "output_type": "display_data"
    }
   ],
   "source": [
    "# evaluation for the Decision tree algo\n",
    "\n",
    "yhat_val = drugTree_final.predict(X_val)\n",
    "\n",
    "f1score = f1_score(y_val, yhat_val, average='weighted')\n",
    "jaccard = jaccard_score(y_val, yhat_val , pos_label=\"Positive\")\n",
    "\n",
    "print(f1score)\n",
    "print(jaccard)\n",
    "\n",
    "# plotting confusion matrix\n",
    "plot_confusion_matrix(drugTree_final, X_val, y_val)\n",
    "plt.show()"
   ]
  },
  {
   "cell_type": "code",
   "execution_count": null,
   "metadata": {},
   "outputs": [],
   "source": []
  }
 ],
 "metadata": {
  "kernelspec": {
   "display_name": "Python 3",
   "language": "python",
   "name": "python3"
  },
  "language_info": {
   "codemirror_mode": {
    "name": "ipython",
    "version": 3
   },
   "file_extension": ".py",
   "mimetype": "text/x-python",
   "name": "python",
   "nbconvert_exporter": "python",
   "pygments_lexer": "ipython3",
   "version": "3.6.5"
  }
 },
 "nbformat": 4,
 "nbformat_minor": 2
}
